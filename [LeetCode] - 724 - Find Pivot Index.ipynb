{
 "cells": [
  {
   "cell_type": "markdown",
   "metadata": {},
   "source": [
    "#### 724 - Find Pivot Index\n",
    "\n",
    "* 输入: \n",
    "* nums = [1, 7, 3, 6, 5, 6]\n",
    "\n",
    "* 输出: 3 <br/>\n",
    "> 解释: \n",
    "> 索引3 (nums[3] = 6) 的左侧数之和(1 + 7 + 3 = 11)，与右侧数之和(5 + 6 = 11)相等。\n",
    "> 同时, 3 也是第一个符合要求的中心索引。\n",
    "\n",
    "--------------------------------\n",
    "\n",
    "* 输入: \n",
    "* nums = [1, 2, 3]\n",
    "\n",
    "* 输出: -1<br/>\n",
    "> 解释: \n",
    "> 数组中不存在满足此条件的中心索引。\n",
    "\n",
    "* nums 的长度范围为 [0, 10000]。\n",
    "* 任何一个 nums[i] 将会是一个范围在 [-1000, 1000]的整数。"
   ]
  },
  {
   "cell_type": "code",
   "execution_count": 3,
   "metadata": {},
   "outputs": [
    {
     "data": {
      "text/plain": [
       "3"
      ]
     },
     "execution_count": 3,
     "metadata": {},
     "output_type": "execute_result"
    }
   ],
   "source": [
    "class Solution:\n",
    "    def pivotIndex(self, nums):\n",
    "        \"\"\"\n",
    "        :type nums: List[int]\n",
    "        :rtype: int\n",
    "        \"\"\"\n",
    "        \n",
    "        # 如果小于等于2，就返回-1\n",
    "        if len(nums) <= 2:\n",
    "            return -1\n",
    "        \n",
    "        sums = sum(nums) # 总值\n",
    "        lsum,index = 0,0 # 从左边开始统计数字\n",
    "        list_index = []  # 记录指针 \n",
    "        for item in nums:\n",
    "            #每次都往右边移动一位\n",
    "            if lsum * 2 + item == sums:  \n",
    "                list_index.append(index) # 记录中心索引点\n",
    "            lsum += item # 左边list不断累加指针划过的元素\n",
    "            index += 1\n",
    "        if len(list_index)!=0:\n",
    "            return(list_index[0]) # 返回结果\n",
    "        else:\n",
    "            return -1 # 不存在返回-1\n",
    "        \n",
    "s = Solution()\n",
    "s.pivotIndex([1,3,7,6,6,5])"
   ]
  },
  {
   "cell_type": "code",
   "execution_count": null,
   "metadata": {
    "collapsed": true
   },
   "outputs": [],
   "source": []
  }
 ],
 "metadata": {
  "kernelspec": {
   "display_name": "Python [default]",
   "language": "python",
   "name": "python3"
  },
  "language_info": {
   "codemirror_mode": {
    "name": "ipython",
    "version": 3
   },
   "file_extension": ".py",
   "mimetype": "text/x-python",
   "name": "python",
   "nbconvert_exporter": "python",
   "pygments_lexer": "ipython3",
   "version": "3.5.2"
  }
 },
 "nbformat": 4,
 "nbformat_minor": 2
}
