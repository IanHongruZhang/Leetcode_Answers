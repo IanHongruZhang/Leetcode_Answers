{
 "cells": [
  {
   "cell_type": "markdown",
   "metadata": {},
   "source": [
    "### 561 - Array Partition\n",
    "\n",
    "* 给定长度为 2n 的数组, 你的任务是将这些数分成 n 对, 例如 (a1, b1), (a2, b2), ..., (an, bn) ，使得从1 到 n 的 min(ai, bi) 总和最大。\n",
    "\n",
    "输入：[1,4,3,2]\n",
    "\n",
    "输出: 4\n",
    "解释: n 等于 2, 最大总和为 4 = min(1, 2) + min(3, 4).\n",
    "\n",
    "* n是正整数,范围在 [1, 10000].\n",
    "\n",
    "* 数组中的元素范围在 [-10000, 10000]."
   ]
  },
  {
   "cell_type": "code",
   "execution_count": 15,
   "metadata": {},
   "outputs": [
    {
     "data": {
      "text/plain": [
       "-3"
      ]
     },
     "execution_count": 15,
     "metadata": {},
     "output_type": "execute_result"
    }
   ],
   "source": [
    "###解法\n",
    "\"\"\"\n",
    "1.先排序。\n",
    "2.然后取奇数项相加，则为总和最大的情况。\n",
    "2+.正数多于负数的情况下，应该是取奇数项。而负数多于正数的情况下，应该是取偶数项。（结果不对）\n",
    "3.因为配对应该是临近值配对会比较大。（仅是观察，怎么证明？）\n",
    "\"\"\"\n",
    "class Solution:\n",
    "    def arrayPairSum(self, nums):\n",
    "        \"\"\"\n",
    "        :type nums: List[int]\n",
    "        :rtype: int\n",
    "        \"\"\"\n",
    "        # 先排序。\n",
    "        nums = sorted(nums)\n",
    "        \n",
    "        # 这道题让我们分割数组，两两一对，让每对中较小的数的和最大。\n",
    "        # 这题难度不大，用贪婪算法就可以了。由于我们要最大化每对中的较小值之和，那么肯定是每对中两个数字大小越接近越好\n",
    "        return (sum(nums[0::2]))\n",
    "        \n",
    "s = Solution()\n",
    "s.arrayPairSum([-3,-2,-1,0,1,2])"
   ]
  },
  {
   "cell_type": "code",
   "execution_count": 1,
   "metadata": {},
   "outputs": [
    {
     "name": "stdout",
     "output_type": "stream",
     "text": [
      "5\n"
     ]
    }
   ],
   "source": [
    "list_ = [-3,-2,-1,0,1,2,3,4,5,6]\n",
    "### 先排序\n",
    "sorted(list_)\n",
    "\n",
    "### 统计小于0的元素和大于0的元素\n",
    "list_below_zero = [i for i in list_ if i < 0]\n",
    "list_over_zero = [i for i in list_ if i > 0]\n",
    "\n",
    "if len(list_below_zero) > len(list_over_zero):\n",
    "    print(sum(list_[1::2]))\n",
    "else:\n",
    "    print(sum(list_[0::2]))"
   ]
  },
  {
   "cell_type": "code",
   "execution_count": null,
   "metadata": {
    "collapsed": true
   },
   "outputs": [],
   "source": []
  }
 ],
 "metadata": {
  "kernelspec": {
   "display_name": "Python [default]",
   "language": "python",
   "name": "python3"
  },
  "language_info": {
   "codemirror_mode": {
    "name": "ipython",
    "version": 3
   },
   "file_extension": ".py",
   "mimetype": "text/x-python",
   "name": "python",
   "nbconvert_exporter": "python",
   "pygments_lexer": "ipython3",
   "version": "3.6.2"
  }
 },
 "nbformat": 4,
 "nbformat_minor": 2
}
