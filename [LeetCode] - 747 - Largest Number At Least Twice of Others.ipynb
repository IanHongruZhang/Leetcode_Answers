{
 "cells": [
  {
   "cell_type": "markdown",
   "metadata": {},
   "source": [
    "### 747 - Largest Number At Least Twice of Others\n",
    "\n",
    "在一个给定的数组nums中，总是存在一个最大元素。  \n",
    "\n",
    "查找数组中的最大元素是否至少是数组中每个其他数字的两倍。\n",
    "\n",
    "如果是，则返回最大元素的索引，否则返回-1。\n",
    "\n",
    "**示例 1:**\n",
    "> 输入: nums = [3, 6, 1, 0]<br/>\n",
    "> 输出: 1<br/>\n",
    "> 解释: 6是最大的整数, 对于数组中的其他整数,<br/>\n",
    "> 6大于数组中其他元素的两倍。6的索引是1, 所以我们返回1.<br/>\n",
    "\n",
    "**示例 2:**\n",
    "> 输入: nums = [1, 2, 3, 4]<br/>\n",
    "> 输出: -1<br/>\n",
    "> 解释: 4没有超过3的两倍大, 所以我们返回 -1.<br/>\n",
    "\n",
    "提示:\n",
    "\n",
    "nums 的长度范围在[1, 50]\n",
    "\n",
    "每个 nums[i] 的整数范围在 [0, 99]."
   ]
  },
  {
   "cell_type": "code",
   "execution_count": 1,
   "metadata": {},
   "outputs": [
    {
     "data": {
      "text/plain": [
       "1"
      ]
     },
     "execution_count": 1,
     "metadata": {},
     "output_type": "execute_result"
    }
   ],
   "source": [
    "class Solution:\n",
    "    def dominantIndex(self, nums):\n",
    "        \"\"\"\n",
    "        :type nums: List[int]\n",
    "        :rtype: int\n",
    "        \"\"\"\n",
    "        ### 求得最大值，设list_final\n",
    "        max_n = max(nums)\n",
    "        index_n = nums.index(max_n)\n",
    "        nums.remove(max_n)\n",
    "        list_final = []\n",
    "        \n",
    "        ### 查谁是最大值的二分之一以下\n",
    "        for item in nums:\n",
    "            if max_n - item * 2 >= 0:\n",
    "                list_final.append(index_n)\n",
    "            else:\n",
    "                list_final.append(-1)\n",
    "        \n",
    "        ### 如果没有返回-1\n",
    "        if -1 in list_final:\n",
    "            return(-1)\n",
    "        else:\n",
    "            return(index_n)\n",
    "        \n",
    "s = Solution()\n",
    "s.dominantIndex([3,6,1,0])"
   ]
  },
  {
   "cell_type": "code",
   "execution_count": null,
   "metadata": {
    "collapsed": true
   },
   "outputs": [],
   "source": []
  }
 ],
 "metadata": {
  "kernelspec": {
   "display_name": "Python [conda root]",
   "language": "python",
   "name": "conda-root-py"
  },
  "language_info": {
   "codemirror_mode": {
    "name": "ipython",
    "version": 3
   },
   "file_extension": ".py",
   "mimetype": "text/x-python",
   "name": "python",
   "nbconvert_exporter": "python",
   "pygments_lexer": "ipython3",
   "version": "3.5.2"
  }
 },
 "nbformat": 4,
 "nbformat_minor": 2
}
